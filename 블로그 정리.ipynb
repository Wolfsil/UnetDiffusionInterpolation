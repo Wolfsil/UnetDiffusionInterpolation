{
 "cells": [
  {
   "cell_type": "markdown",
   "metadata": {},
   "source": [
    "\n"
   ]
  },
  {
   "cell_type": "code",
   "execution_count": 4,
   "metadata": {},
   "outputs": [],
   "source": [
    "import tensorflow as tf\n",
    "import numpy as np"
   ]
  },
  {
   "cell_type": "code",
   "execution_count": 10,
   "metadata": {},
   "outputs": [],
   "source": []
  },
  {
   "cell_type": "markdown",
   "metadata": {},
   "source": [
    "## 모델 생성 방식\n",
    "```\n",
    "#순차적인 생성\n",
    "model = keras.models.Sequential()\n",
    "model.add(keras.layers.Dense(16,activation='relu',input_shape=(10000,)))\n",
    "model.add(keras.layers.Dense(16,activation='relu'))\n",
    "model.add(keras.layers.Dense(1,activation='sigmoid'))\n",
    "print(model.summary())\n",
    "\n",
    "\n",
    "#함수적인 생성(다중 출력, 다중 입력)\n",
    "def CreateModel():\n",
    "    input = tf.keras.layers.Input(shape=(10000,), name=\"input1\")  # 이름을 지정가능\n",
    "    input2 = tf.keras.layers.Input(shape=(10000,), name=\"input2\")\n",
    "\n",
    "    x = tf.keras.layers.Dense(32, activation=\"leaky_relu\")(input)\n",
    "    x = tf.keras.layers.Dense(32, activation=\"swish\")(x)\n",
    "    output = tf.keras.layers.Dense(5, activation=\"softmax\")(x)\n",
    "\n",
    "    x2 = tf.keras.layers.Dense(32, activation=\"leaky_relu\")(input2)\n",
    "    x2 = tf.keras.layers.Dense(32, activation=\"swish\")(x2)\n",
    "    output2 = tf.keras.layers.Dense(5, activation=\"softmax\")(x2)\n",
    "    output = tf.keras.layers.concatenate([output, output2])\n",
    "\n",
    "    return tf.keras.models.Model([input, input2], output)  # 다중입력은 이렇게 감싸준다.\n",
    "\n",
    "\n",
    "model = CreateModel()\n",
    "model.compile(optimizer=\"adam\", loss=\"mse\", metrics=[\"acc\"])\n",
    "model.summary()\n",
    "\n",
    "x = np.random.rand(1, 10000)\n",
    "x2 = np.random.rand(1, 10000)\n",
    "y = np.random.rand(1, 10)\n",
    "model.fit([x, x2], y)\n",
    "\n",
    "```\n",
    "\n",
    "- 함수적으로 생성할때, 인풋에서부터 아웃풋까지 어떤 방식으로든 이어져야 한다.\n",
    "- model.compile()로 옵티마이저, 로스, 매트릭을 결정가능\n",
    "- model.fit의 입력값은 넘파이 배열이거나 파이썬 배열(리스트, 튜플)이여야 한다.\n",
    "- 인풋, 아웃풋이 복수개면 묶어서 전달\n",
    "- 입력값은 배치단위. 배치차원이 axis=0에 추가되어야 함\n",
    "- 즉 입력 요소가 100이면, (배치사이즈,100) 필요.\n",
    "\n",
    "\n",
    "\n",
    "## 모델 생성 방식\n"
   ]
  }
 ],
 "metadata": {
  "kernelspec": {
   "display_name": "field",
   "language": "python",
   "name": "python3"
  },
  "language_info": {
   "codemirror_mode": {
    "name": "ipython",
    "version": 3
   },
   "file_extension": ".py",
   "mimetype": "text/x-python",
   "name": "python",
   "nbconvert_exporter": "python",
   "pygments_lexer": "ipython3",
   "version": "3.9.18"
  }
 },
 "nbformat": 4,
 "nbformat_minor": 2
}
