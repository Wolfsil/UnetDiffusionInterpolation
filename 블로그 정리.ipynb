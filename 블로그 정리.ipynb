{
 "cells": [
  {
   "cell_type": "markdown",
   "metadata": {},
   "source": [
    "작성할 문서\n",
    "- unet 생성\n",
    "-텐서플로우 사용법\n",
    "- 넘파이 사용법(무작위 배열 생성법, 넘파이 변환, 조작, 차원추)\n",
    "-판다스, matplotlib사용법\n",
    "-파이썬 코테 라이브러리\n"
   ]
  },
  {
   "cell_type": "markdown",
   "metadata": {},
   "source": [
    "## 텐서플로우 커스텀 데이터셋 생성\n",
    "```\n",
    "import tensorflow as tf\n",
    "\n",
    "#1. 데이터 제너레이터를 만든다.\n",
    "def DatasetGenerater(size):\n",
    "  for i in range(size): \n",
    "      yield [i]\n",
    "\n",
    "\n",
    "trainDataset=tf.data.Dataset.from_generator(DatasetGenerater,\n",
    "                               args=[11], output_types=(tf.float32),\n",
    "                               output_shapes = (1))\n",
    "trainDataset=trainDataset.shuffle(10).batch(10).prefetch(1)\n",
    "\n",
    "for i in trainDataset.take(2):\n",
    "    print(i)#두 배치를 한번씩 출력\n",
    "\n",
    "```\n",
    "- 데이터 제너레이터는 __next__()를 호출할떄 작동. i값을 반환.\n",
    "- 데이터 제너레이터에서 전처리(이미지, 텍스트 등)\n",
    "- (x, y), ((x1, x2),(y1, y2)) 등 다양한 데이터셋 생성가능\n",
    "- tf.data.Dataset.from_generator 으로 데이터셋 생성\n",
    "- shuffle은 데이터 셔플\n",
    "- batch는 데이터셋 배치화. axis=0 에 한차원 추가\n",
    "- prefetch는 학습중에 데이터를 미리 읽도록 한다.\n",
    "- 순서가 중요"
   ]
  }
 ],
 "metadata": {
  "kernelspec": {
   "display_name": "field",
   "language": "python",
   "name": "python3"
  },
  "language_info": {
   "codemirror_mode": {
    "name": "ipython",
    "version": 3
   },
   "file_extension": ".py",
   "mimetype": "text/x-python",
   "name": "python",
   "nbconvert_exporter": "python",
   "pygments_lexer": "ipython3",
   "version": "3.10.13"
  }
 },
 "nbformat": 4,
 "nbformat_minor": 2
}
