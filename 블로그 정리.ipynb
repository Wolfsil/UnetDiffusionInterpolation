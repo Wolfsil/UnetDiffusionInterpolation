{
 "cells": [
  {
   "cell_type": "markdown",
   "metadata": {},
   "source": [
    "작성할 문서\n",
    "-텐서플로우 사용법\n",
    "- 넘파이 사용법(무작위 배열 생성법, 넘파이 변환, 조작, 차원추)\n",
    "-판다스, matplotlib사용법\n",
    "-파이썬 코테 라이브러리\n"
   ]
  },
  {
   "cell_type": "markdown",
   "metadata": {},
   "source": [
    "# 넘파이 사용법\n",
    "```\n",
    "\n",
    "\n",
    "\n",
    "\n",
    "```\n",
    "- sdads\n",
    "\n",
    "\n",
    "\n",
    "\n",
    "\n",
    "import numpy as np\n",
    "#넘파이 생성\n",
    "a= np.array([0,1,2,3,4,5])\n",
    "\n",
    "#랜덤 배열 생성\n",
    "x = np.random.rand(4,4) \n",
    "\n",
    "#패딩\n",
    "x=np.pad(x, pad_width=((0,2),(0,2)),mode=\"constant\",constant_values=0)\n",
    "\n",
    "#넘파이 추출\n",
    "a[0] #0번째 값 추출\n",
    "a[0:3:2] #0에서 3까지, 2칸씩 띄어서 추출\n",
    "a[0:-1]#마지막 값만 빼고 추출\n",
    "\n",
    "# 기존의 배열에서 윈도우를 참조하는 방식(참조형)\n",
    "# 값이 바뀌면 원본도 같이 바뀜\n",
    "np.arange()\n",
    "\n",
    "#넘파이 형태 바꾸기\n",
    "np.expand_dims(a, axis=0) #0번쨰 차원에 차원추가\n",
    "np.reshape(a,[2,-1]) #2행으로 맞추며, 자동으로 열을 결정(행렬의 개수가 맞아야 한다)\n",
    "\n",
    "\n"
   ]
  }
 ],
 "metadata": {
  "kernelspec": {
   "display_name": "field",
   "language": "python",
   "name": "python3"
  },
  "language_info": {
   "codemirror_mode": {
    "name": "ipython",
    "version": 3
   },
   "file_extension": ".py",
   "mimetype": "text/x-python",
   "name": "python",
   "nbconvert_exporter": "python",
   "pygments_lexer": "ipython3",
   "version": "3.10.13"
  }
 },
 "nbformat": 4,
 "nbformat_minor": 2
}
