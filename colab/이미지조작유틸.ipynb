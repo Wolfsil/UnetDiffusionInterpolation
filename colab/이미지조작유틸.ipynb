{
 "cells": [
  {
   "cell_type": "code",
   "execution_count": 1,
   "metadata": {},
   "outputs": [],
   "source": [
    "from PIL import Image\n",
    "import os\n",
    "\n",
    "\n",
    "# 애니메이션 GIF 파일 열기\n",
    "\n",
    "\n",
    "gif_file = r\"K:\\프로젝트\\Py_Unet_Diffusion_Interpolation\\unet학습\\train\\ffa9127c944c603e993c8766122b5687.gif\"\n",
    "\n",
    "\n",
    "image = Image.open(gif_file)\n",
    "\n",
    "folder = r\"K:\\프로젝트\\Py_Unet_Diffusion_Interpolation\\images\"\n",
    "name = \"test1\"\n",
    "\n",
    "\n",
    "def extractFrame(gifPath, savePath, name):\n",
    "    frames = []\n",
    "    try:\n",
    "        while True:\n",
    "            frames.append(image.copy())\n",
    "            image.seek(len(frames))  # 다음 프레임으로 이동\n",
    "    except EOFError:\n",
    "        pass\n",
    "\n",
    "    # 각 프레임 저장\n",
    "    for index, frame in enumerate(frames):\n",
    "        save_file = f\"{name}_{index}.png\"\n",
    "        save_file = os.path.join(folder, save_file)\n",
    "        frame.save(save_file, format=\"PNG\")"
   ]
  }
 ],
 "metadata": {
  "kernelspec": {
   "display_name": "tf",
   "language": "python",
   "name": "python3"
  },
  "language_info": {
   "codemirror_mode": {
    "name": "ipython",
    "version": 3
   },
   "file_extension": ".py",
   "mimetype": "text/x-python",
   "name": "python",
   "nbconvert_exporter": "python",
   "pygments_lexer": "ipython3",
   "version": "3.9.18"
  }
 },
 "nbformat": 4,
 "nbformat_minor": 2
}
