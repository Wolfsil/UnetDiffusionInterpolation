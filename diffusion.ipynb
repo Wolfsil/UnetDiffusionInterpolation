{
 "cells": [
  {
   "cell_type": "code",
   "execution_count": null,
   "metadata": {},
   "outputs": [],
   "source": [
    "#참고 unet\n",
    "import tensorflow as tf\n",
    "from tensorflow.keras.layers import Input, Conv3D, MaxPooling3D, UpSampling3D, concatenate\n",
    "\n",
    "def build_3d_unet(input_shape):\n",
    "    inputs = Input(shape=input_shape)\n",
    "    \n",
    "    # Encoder\n",
    "    conv1 = Conv3D(32, (3, 3, 3), activation='relu', padding='same')(inputs)\n",
    "    pool1 = MaxPooling3D(pool_size=(2, 2, 2))(conv1)\n",
    "    # ... Add more layers as needed\n",
    "    \n",
    "    # Decoder\n",
    "    up1 = UpSampling3D(size=(2, 2, 2))(pool1)\n",
    "    concat1 = concatenate([up1, conv1], axis=-1)\n",
    "    conv2 = Conv3D(32, (3, 3, 3), activation='relu', padding='same')(concat1)\n",
    "    # ... Add more layers as needed\n",
    "    \n",
    "    # Output layer\n",
    "    output = Conv3D(1, (1, 1, 1), activation='sigmoid')(conv2)\n",
    "    \n",
    "    model = tf.keras.Model(inputs=inputs, outputs=output)\n",
    "    return model\n",
    "\n",
    "# Example usage\n",
    "input_shape = (None, None, None, 1)  # Set the dimensions as needed\n",
    "model = build_3d_unet(input_shape)\n",
    "model.summary()\n",
    "\n",
    "\n",
    "import os\n",
    "from PIL import Image\n",
    "import matplotlib.pyplot as plt\n",
    "import numpy as np\n",
    "#분리한 이미지를 천천히 한장씩 보여주는 코드\n",
    "from IPython import display\n",
    "\n",
    "for i in range(a.shape[0]):\n",
    "    display.clear_output(wait=True)\n",
    "    display.display(plt.gcf())\n",
    "    plt.imshow(a[i])\n",
    "    display.clear_output(wait=True)\n",
    "    display.display(plt.gcf())\n",
    "    plt.imshow(b[i])"
   ]
  }
 ],
 "metadata": {
  "language_info": {
   "name": "python"
  }
 },
 "nbformat": 4,
 "nbformat_minor": 2
}
